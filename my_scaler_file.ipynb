{
 "cells": [
  {
   "cell_type": "code",
   "execution_count": 1,
   "id": "f7654811-73b9-4ccc-80f4-1d04417d0b0f",
   "metadata": {},
   "outputs": [],
   "source": [
    "import numpy as np \n",
    "import pandas as pd \n",
    "import scipy \n",
    "import pickle"
   ]
  },
  {
   "cell_type": "code",
   "execution_count": 2,
   "id": "556eb5e7-d4bc-4df1-853c-0f13db5c01c9",
   "metadata": {},
   "outputs": [],
   "source": [
    "df = pd.read_csv(\"Audiobooks_data.csv\")\n",
    "raw_csv_data = df"
   ]
  },
  {
   "cell_type": "code",
   "execution_count": 3,
   "id": "b9f77d10-e15c-4229-95e0-f5d4ee63c7cc",
   "metadata": {},
   "outputs": [
    {
     "data": {
      "text/html": [
       "<div>\n",
       "<style scoped>\n",
       "    .dataframe tbody tr th:only-of-type {\n",
       "        vertical-align: middle;\n",
       "    }\n",
       "\n",
       "    .dataframe tbody tr th {\n",
       "        vertical-align: top;\n",
       "    }\n",
       "\n",
       "    .dataframe thead th {\n",
       "        text-align: right;\n",
       "    }\n",
       "</style>\n",
       "<table border=\"1\" class=\"dataframe\">\n",
       "  <thead>\n",
       "    <tr style=\"text-align: right;\">\n",
       "      <th></th>\n",
       "      <th>ID</th>\n",
       "      <th>Book Length (mins)_overall</th>\n",
       "      <th>Book Length(mins)_avg</th>\n",
       "      <th>Price_Overall</th>\n",
       "      <th>Price_avg</th>\n",
       "      <th>Review</th>\n",
       "      <th>Review 10/10</th>\n",
       "      <th>Minutes Listened</th>\n",
       "      <th>Completion</th>\n",
       "      <th>Support Requests</th>\n",
       "      <th>Last visited minus Purchase date</th>\n",
       "      <th>Targets</th>\n",
       "    </tr>\n",
       "  </thead>\n",
       "  <tbody>\n",
       "    <tr>\n",
       "      <th>0</th>\n",
       "      <td>873</td>\n",
       "      <td>2160.0</td>\n",
       "      <td>2160</td>\n",
       "      <td>10.13</td>\n",
       "      <td>10.13</td>\n",
       "      <td>0</td>\n",
       "      <td>8.91</td>\n",
       "      <td>0.0</td>\n",
       "      <td>0.0</td>\n",
       "      <td>0</td>\n",
       "      <td>0</td>\n",
       "      <td>1</td>\n",
       "    </tr>\n",
       "    <tr>\n",
       "      <th>1</th>\n",
       "      <td>611</td>\n",
       "      <td>1404.0</td>\n",
       "      <td>2808</td>\n",
       "      <td>6.66</td>\n",
       "      <td>13.33</td>\n",
       "      <td>1</td>\n",
       "      <td>6.50</td>\n",
       "      <td>0.0</td>\n",
       "      <td>0.0</td>\n",
       "      <td>0</td>\n",
       "      <td>182</td>\n",
       "      <td>1</td>\n",
       "    </tr>\n",
       "    <tr>\n",
       "      <th>2</th>\n",
       "      <td>705</td>\n",
       "      <td>324.0</td>\n",
       "      <td>324</td>\n",
       "      <td>10.13</td>\n",
       "      <td>10.13</td>\n",
       "      <td>1</td>\n",
       "      <td>9.00</td>\n",
       "      <td>0.0</td>\n",
       "      <td>0.0</td>\n",
       "      <td>1</td>\n",
       "      <td>334</td>\n",
       "      <td>1</td>\n",
       "    </tr>\n",
       "  </tbody>\n",
       "</table>\n",
       "</div>"
      ],
      "text/plain": [
       "    ID  Book Length (mins)_overall  Book Length(mins)_avg  Price_Overall  \\\n",
       "0  873                      2160.0                   2160          10.13   \n",
       "1  611                      1404.0                   2808           6.66   \n",
       "2  705                       324.0                    324          10.13   \n",
       "\n",
       "   Price_avg  Review  Review 10/10  Minutes Listened  Completion  \\\n",
       "0      10.13       0          8.91               0.0         0.0   \n",
       "1      13.33       1          6.50               0.0         0.0   \n",
       "2      10.13       1          9.00               0.0         0.0   \n",
       "\n",
       "   Support Requests  Last visited minus Purchase date  Targets  \n",
       "0                 0                                 0        1  \n",
       "1                 0                               182        1  \n",
       "2                 1                               334        1  "
      ]
     },
     "execution_count": 3,
     "metadata": {},
     "output_type": "execute_result"
    }
   ],
   "source": [
    "df.head(3)"
   ]
  },
  {
   "cell_type": "code",
   "execution_count": 4,
   "id": "c070997f-d5d2-4a5d-a388-abcc1dfbc2f6",
   "metadata": {},
   "outputs": [],
   "source": [
    "from sklearn.preprocessing import StandardScaler "
   ]
  },
  {
   "cell_type": "code",
   "execution_count": 5,
   "id": "70ea67d9-933d-4c13-9b9e-7b28a37cb1d0",
   "metadata": {},
   "outputs": [],
   "source": [
    "unscaled_inputs_all=raw_csv_data.iloc[:,1:-1]"
   ]
  },
  {
   "cell_type": "code",
   "execution_count": 6,
   "id": "880ca81d-7a5c-4d4f-8cfb-68339442872d",
   "metadata": {
    "scrolled": true
   },
   "outputs": [
    {
     "data": {
      "text/html": [
       "<div>\n",
       "<style scoped>\n",
       "    .dataframe tbody tr th:only-of-type {\n",
       "        vertical-align: middle;\n",
       "    }\n",
       "\n",
       "    .dataframe tbody tr th {\n",
       "        vertical-align: top;\n",
       "    }\n",
       "\n",
       "    .dataframe thead th {\n",
       "        text-align: right;\n",
       "    }\n",
       "</style>\n",
       "<table border=\"1\" class=\"dataframe\">\n",
       "  <thead>\n",
       "    <tr style=\"text-align: right;\">\n",
       "      <th></th>\n",
       "      <th>Book Length (mins)_overall</th>\n",
       "      <th>Book Length(mins)_avg</th>\n",
       "      <th>Price_Overall</th>\n",
       "      <th>Price_avg</th>\n",
       "      <th>Review</th>\n",
       "      <th>Review 10/10</th>\n",
       "      <th>Minutes Listened</th>\n",
       "      <th>Completion</th>\n",
       "      <th>Support Requests</th>\n",
       "      <th>Last visited minus Purchase date</th>\n",
       "    </tr>\n",
       "  </thead>\n",
       "  <tbody>\n",
       "    <tr>\n",
       "      <th>0</th>\n",
       "      <td>2160.0</td>\n",
       "      <td>2160</td>\n",
       "      <td>10.13</td>\n",
       "      <td>10.13</td>\n",
       "      <td>0</td>\n",
       "      <td>8.91</td>\n",
       "      <td>0.00</td>\n",
       "      <td>0.0</td>\n",
       "      <td>0</td>\n",
       "      <td>0</td>\n",
       "    </tr>\n",
       "    <tr>\n",
       "      <th>1</th>\n",
       "      <td>1404.0</td>\n",
       "      <td>2808</td>\n",
       "      <td>6.66</td>\n",
       "      <td>13.33</td>\n",
       "      <td>1</td>\n",
       "      <td>6.50</td>\n",
       "      <td>0.00</td>\n",
       "      <td>0.0</td>\n",
       "      <td>0</td>\n",
       "      <td>182</td>\n",
       "    </tr>\n",
       "    <tr>\n",
       "      <th>2</th>\n",
       "      <td>324.0</td>\n",
       "      <td>324</td>\n",
       "      <td>10.13</td>\n",
       "      <td>10.13</td>\n",
       "      <td>1</td>\n",
       "      <td>9.00</td>\n",
       "      <td>0.00</td>\n",
       "      <td>0.0</td>\n",
       "      <td>1</td>\n",
       "      <td>334</td>\n",
       "    </tr>\n",
       "    <tr>\n",
       "      <th>3</th>\n",
       "      <td>1620.0</td>\n",
       "      <td>1620</td>\n",
       "      <td>15.31</td>\n",
       "      <td>15.31</td>\n",
       "      <td>0</td>\n",
       "      <td>9.00</td>\n",
       "      <td>0.00</td>\n",
       "      <td>0.0</td>\n",
       "      <td>0</td>\n",
       "      <td>183</td>\n",
       "    </tr>\n",
       "    <tr>\n",
       "      <th>4</th>\n",
       "      <td>432.0</td>\n",
       "      <td>1296</td>\n",
       "      <td>7.11</td>\n",
       "      <td>21.33</td>\n",
       "      <td>1</td>\n",
       "      <td>9.00</td>\n",
       "      <td>0.00</td>\n",
       "      <td>0.0</td>\n",
       "      <td>0</td>\n",
       "      <td>0</td>\n",
       "    </tr>\n",
       "    <tr>\n",
       "      <th>...</th>\n",
       "      <td>...</td>\n",
       "      <td>...</td>\n",
       "      <td>...</td>\n",
       "      <td>...</td>\n",
       "      <td>...</td>\n",
       "      <td>...</td>\n",
       "      <td>...</td>\n",
       "      <td>...</td>\n",
       "      <td>...</td>\n",
       "      <td>...</td>\n",
       "    </tr>\n",
       "    <tr>\n",
       "      <th>14079</th>\n",
       "      <td>2160.0</td>\n",
       "      <td>2160</td>\n",
       "      <td>7.99</td>\n",
       "      <td>7.99</td>\n",
       "      <td>0</td>\n",
       "      <td>8.91</td>\n",
       "      <td>0.00</td>\n",
       "      <td>0.0</td>\n",
       "      <td>0</td>\n",
       "      <td>54</td>\n",
       "    </tr>\n",
       "    <tr>\n",
       "      <th>14080</th>\n",
       "      <td>1620.0</td>\n",
       "      <td>1620</td>\n",
       "      <td>5.33</td>\n",
       "      <td>5.33</td>\n",
       "      <td>1</td>\n",
       "      <td>9.00</td>\n",
       "      <td>0.61</td>\n",
       "      <td>0.0</td>\n",
       "      <td>0</td>\n",
       "      <td>4</td>\n",
       "    </tr>\n",
       "    <tr>\n",
       "      <th>14081</th>\n",
       "      <td>1080.0</td>\n",
       "      <td>1080</td>\n",
       "      <td>6.55</td>\n",
       "      <td>6.55</td>\n",
       "      <td>1</td>\n",
       "      <td>6.00</td>\n",
       "      <td>0.29</td>\n",
       "      <td>0.0</td>\n",
       "      <td>0</td>\n",
       "      <td>29</td>\n",
       "    </tr>\n",
       "    <tr>\n",
       "      <th>14082</th>\n",
       "      <td>2160.0</td>\n",
       "      <td>2160</td>\n",
       "      <td>6.14</td>\n",
       "      <td>6.14</td>\n",
       "      <td>0</td>\n",
       "      <td>8.91</td>\n",
       "      <td>0.00</td>\n",
       "      <td>0.0</td>\n",
       "      <td>0</td>\n",
       "      <td>0</td>\n",
       "    </tr>\n",
       "    <tr>\n",
       "      <th>14083</th>\n",
       "      <td>1620.0</td>\n",
       "      <td>1620</td>\n",
       "      <td>5.33</td>\n",
       "      <td>5.33</td>\n",
       "      <td>1</td>\n",
       "      <td>8.00</td>\n",
       "      <td>0.38</td>\n",
       "      <td>0.0</td>\n",
       "      <td>0</td>\n",
       "      <td>90</td>\n",
       "    </tr>\n",
       "  </tbody>\n",
       "</table>\n",
       "<p>14084 rows × 10 columns</p>\n",
       "</div>"
      ],
      "text/plain": [
       "       Book Length (mins)_overall  Book Length(mins)_avg  Price_Overall  \\\n",
       "0                          2160.0                   2160          10.13   \n",
       "1                          1404.0                   2808           6.66   \n",
       "2                           324.0                    324          10.13   \n",
       "3                          1620.0                   1620          15.31   \n",
       "4                           432.0                   1296           7.11   \n",
       "...                           ...                    ...            ...   \n",
       "14079                      2160.0                   2160           7.99   \n",
       "14080                      1620.0                   1620           5.33   \n",
       "14081                      1080.0                   1080           6.55   \n",
       "14082                      2160.0                   2160           6.14   \n",
       "14083                      1620.0                   1620           5.33   \n",
       "\n",
       "       Price_avg  Review  Review 10/10  Minutes Listened  Completion  \\\n",
       "0          10.13       0          8.91              0.00         0.0   \n",
       "1          13.33       1          6.50              0.00         0.0   \n",
       "2          10.13       1          9.00              0.00         0.0   \n",
       "3          15.31       0          9.00              0.00         0.0   \n",
       "4          21.33       1          9.00              0.00         0.0   \n",
       "...          ...     ...           ...               ...         ...   \n",
       "14079       7.99       0          8.91              0.00         0.0   \n",
       "14080       5.33       1          9.00              0.61         0.0   \n",
       "14081       6.55       1          6.00              0.29         0.0   \n",
       "14082       6.14       0          8.91              0.00         0.0   \n",
       "14083       5.33       1          8.00              0.38         0.0   \n",
       "\n",
       "       Support Requests  Last visited minus Purchase date  \n",
       "0                     0                                 0  \n",
       "1                     0                               182  \n",
       "2                     1                               334  \n",
       "3                     0                               183  \n",
       "4                     0                                 0  \n",
       "...                 ...                               ...  \n",
       "14079                 0                                54  \n",
       "14080                 0                                 4  \n",
       "14081                 0                                29  \n",
       "14082                 0                                 0  \n",
       "14083                 0                                90  \n",
       "\n",
       "[14084 rows x 10 columns]"
      ]
     },
     "execution_count": 6,
     "metadata": {},
     "output_type": "execute_result"
    }
   ],
   "source": [
    "unscaled_inputs_all"
   ]
  },
  {
   "cell_type": "code",
   "execution_count": 7,
   "id": "9c6c2c9d-e1ac-4184-9924-91f8c82b54fb",
   "metadata": {},
   "outputs": [],
   "source": [
    "targets_all = raw_csv_data.iloc[:,-1]"
   ]
  },
  {
   "cell_type": "code",
   "execution_count": 8,
   "id": "74ef04d3-07e6-415b-9625-c95797dc0f7b",
   "metadata": {},
   "outputs": [
    {
     "data": {
      "text/plain": [
       "0        1\n",
       "1        1\n",
       "2        1\n",
       "3        1\n",
       "4        1\n",
       "        ..\n",
       "14079    0\n",
       "14080    0\n",
       "14081    0\n",
       "14082    0\n",
       "14083    0\n",
       "Name: Targets, Length: 14084, dtype: int64"
      ]
     },
     "execution_count": 8,
     "metadata": {},
     "output_type": "execute_result"
    }
   ],
   "source": [
    "targets_all"
   ]
  },
  {
   "cell_type": "markdown",
   "id": "865928ba-4e79-48f0-be33-8f3a7c5938a6",
   "metadata": {},
   "source": [
    "### Balancing the dataset"
   ]
  },
  {
   "cell_type": "code",
   "execution_count": 9,
   "id": "fef320b4-d07e-4a9a-87ca-fa2c3b4cd1f7",
   "metadata": {},
   "outputs": [],
   "source": [
    "num_one_targets = int(np.sum(targets_all))"
   ]
  },
  {
   "cell_type": "code",
   "execution_count": 10,
   "id": "0d790822-b958-4a56-a28c-0a4ba5354bbb",
   "metadata": {},
   "outputs": [],
   "source": [
    "zero_targets_counter = 0"
   ]
  },
  {
   "cell_type": "code",
   "execution_count": 11,
   "id": "80864a69-3464-4f58-bf70-fce0c55d7fd4",
   "metadata": {},
   "outputs": [],
   "source": [
    "indices_to_remove = []\n",
    "\n",
    "for i in range(targets_all.shape[0]):\n",
    "    if targets_all[i] == 0:\n",
    "        zero_targets_counter += 1\n",
    "        if zero_targets_counter > num_one_targets:\n",
    "            indices_to_remove.append(i)\n",
    "\n",
    "unscaled_inputs_equal_priors = np.delete(unscaled_inputs_all, indices_to_remove, axis=0)\n",
    "targets_equal_priors = np.delete(targets_all, indices_to_remove, axis=0)"
   ]
  },
  {
   "cell_type": "code",
   "execution_count": 12,
   "id": "3b8fe385-67f9-41ae-9aa1-5fe7b6068ecc",
   "metadata": {},
   "outputs": [],
   "source": [
    "scaler_deep_learning = StandardScaler()\n",
    "scaled_inputs = scaler_deep_learning.fit_transform(unscaled_inputs_equal_priors)"
   ]
  },
  {
   "cell_type": "markdown",
   "id": "032d8fe4-a02d-4dbb-81aa-1a379e5c2157",
   "metadata": {},
   "source": [
    "### Shuffle the dataset"
   ]
  },
  {
   "cell_type": "code",
   "execution_count": 13,
   "id": "23a52a6b-8205-4fff-ac2a-a8d2a9478ba7",
   "metadata": {},
   "outputs": [],
   "source": [
    "shuffled_indices = np.arange(scaled_inputs.shape[0])\n",
    "np.random.shuffle(shuffled_indices)\n",
    "shuffled_inputs = scaled_inputs[shuffled_indices]\n",
    "shuffled_targets = targets_equal_priors[shuffled_indices]"
   ]
  },
  {
   "cell_type": "markdown",
   "id": "71f0461c-91a4-47d0-9c0c-26725b49f728",
   "metadata": {},
   "source": [
    "### Splitting the dataset"
   ]
  },
  {
   "cell_type": "code",
   "execution_count": 14,
   "id": "6bd5324c-4676-4fee-a63c-1a76c12a0f77",
   "metadata": {},
   "outputs": [],
   "source": [
    "samples_count = shuffled_inputs.shape[0]\n",
    "train_samples_count = int(0.8 * samples_count)\n",
    "validation_samples_count = int(0.1 * samples_count)\n",
    "test_samples_count = samples_count - train_samples_count - validation_samples_count\n",
    "train_inputs = shuffled_inputs[:train_samples_count]\n",
    "train_targets = shuffled_targets[:train_samples_count]\n",
    "validation_inputs = shuffled_inputs[train_samples_count:train_samples_count+validation_samples_count]\n",
    "validation_targets = shuffled_targets[train_samples_count:train_samples_count+validation_samples_count]\n",
    "test_inputs = shuffled_inputs[train_samples_count+validation_samples_count:]\n",
    "test_targets = shuffled_targets[train_samples_count+validation_samples_count:]"
   ]
  },
  {
   "cell_type": "code",
   "execution_count": 15,
   "id": "7369ceaf-51c6-4b21-a24c-4f38ea0ea8f9",
   "metadata": {},
   "outputs": [
    {
     "name": "stdout",
     "output_type": "stream",
     "text": [
      "1811 3579 0.50600726459905\n",
      "217 447 0.4854586129753915\n",
      "209 448 0.46651785714285715\n"
     ]
    }
   ],
   "source": [
    "print(np.sum(train_targets), train_samples_count, np.sum(train_targets) / train_samples_count)\n",
    "print(np.sum(validation_targets), validation_samples_count, np.sum(validation_targets) / validation_samples_count)\n",
    "print(np.sum(test_targets), test_samples_count, np.sum(test_targets) / test_samples_count)"
   ]
  },
  {
   "cell_type": "code",
   "execution_count": 16,
   "id": "b420ecf5-0b2c-49c6-9e72-3ddc1249aeab",
   "metadata": {},
   "outputs": [],
   "source": [
    "\n",
    "train_inputs = pd.DataFrame(train_inputs)\n",
    "train_targets = pd.DataFrame(train_targets)\n",
    "validation_inputs = pd.DataFrame(validation_inputs)\n",
    "validation_targets = pd.DataFrame(validation_targets)\n",
    "test_inputs = pd.DataFrame(test_inputs)\n",
    "test_targets = pd.DataFrame(test_targets)\n",
    "\n",
    "train_inputs.to_csv('Audiobooks_data_train_inputs.csv', index=False)\n",
    "train_targets.to_csv('Audiobooks_data_train_targets.csv', index=False)\n",
    "validation_inputs.to_csv('Audiobooks_data_validation_inputs.csv', index=False)\n",
    "validation_targets.to_csv('Audiobooks_data_validation_targets.csv', index=False)\n",
    "test_inputs.to_csv('Audiobooks_data_test_inputs.csv', index=False)\n",
    "test_targets.to_csv('Audiobooks_data_test_targets.csv', index=False)\n"
   ]
  },
  {
   "cell_type": "markdown",
   "id": "f9ea2a8e-1e03-4dd9-b057-95cf55d0b62a",
   "metadata": {},
   "source": [
    "### Saving the scaler"
   ]
  },
  {
   "cell_type": "code",
   "execution_count": 17,
   "id": "2e078c08-7ebf-4f53-a5b8-ba01e20701f2",
   "metadata": {},
   "outputs": [],
   "source": [
    "pickle.dump(scaler_deep_learning, open('scaler_deep_learning.pickle', 'wb'))"
   ]
  },
  {
   "cell_type": "code",
   "execution_count": null,
   "id": "0a9748c6-6dd5-436f-99f7-9eef786d824d",
   "metadata": {},
   "outputs": [],
   "source": []
  },
  {
   "cell_type": "code",
   "execution_count": null,
   "id": "c0f573ff-e308-4a20-8286-de5e7e601b3a",
   "metadata": {},
   "outputs": [],
   "source": []
  },
  {
   "cell_type": "code",
   "execution_count": null,
   "id": "945a54bc-1300-4ff3-9fcc-632335af8aa5",
   "metadata": {},
   "outputs": [],
   "source": []
  },
  {
   "cell_type": "code",
   "execution_count": null,
   "id": "bf0dd078-1dbf-45f6-b574-fa9ff5e1dc84",
   "metadata": {},
   "outputs": [],
   "source": []
  }
 ],
 "metadata": {
  "kernelspec": {
   "display_name": "Python 3 (ipykernel)",
   "language": "python",
   "name": "python3"
  },
  "language_info": {
   "codemirror_mode": {
    "name": "ipython",
    "version": 3
   },
   "file_extension": ".py",
   "mimetype": "text/x-python",
   "name": "python",
   "nbconvert_exporter": "python",
   "pygments_lexer": "ipython3",
   "version": "3.8.10"
  }
 },
 "nbformat": 4,
 "nbformat_minor": 5
}
